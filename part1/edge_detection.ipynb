{
 "cells": [
  {
   "cell_type": "markdown",
   "id": "4718ee79",
   "metadata": {},
   "source": [
    "#### Importing libraries "
   ]
  },
  {
   "cell_type": "code",
   "execution_count": 3,
   "id": "c11349db",
   "metadata": {},
   "outputs": [],
   "source": [
    "import cv2\n",
    "import numpy as np\n",
    "import matplotlib.pyplot as plt"
   ]
  },
  {
   "cell_type": "markdown",
   "id": "0c064faa",
   "metadata": {},
   "source": [
    "#### 1- Binary Array \n",
    "return mask in which pixels are either 0 or 1 <br/>\n",
    "0 for black pixels 1 for white pixels"
   ]
  },
  {
   "cell_type": "code",
   "execution_count": 5,
   "id": "0dd47c8b",
   "metadata": {},
   "outputs": [],
   "source": [
    "def binary_array(array, thresh, value=0):\n",
    "  \n",
    "  # Value == 0 -> create Array of 1s\n",
    "  if value == 0:\n",
    "    binary = np.ones_like(array) \n",
    "    \n",
    "  # Value == 1 -> create Array of 0s  \n",
    "  else:\n",
    "    binary = np.zeros_like(array)  \n",
    "    value = 1\n",
    "\n",
    "  binary[(array >= thresh[0]) & (array <= thresh[1])] = value \n",
    "  return binary"
   ]
  },
  {
   "cell_type": "markdown",
   "id": "f7650d4a",
   "metadata": {},
   "source": [
    "#### 2-  Reduce noise and details in the image using blur gaussian mask"
   ]
  },
  {
   "cell_type": "code",
   "execution_count": 6,
   "id": "8ccfeedf",
   "metadata": {},
   "outputs": [],
   "source": [
    "def blur_gaussian(channel, ksize=3):\n",
    "  return cv2.GaussianBlur(channel, (ksize, ksize), 0)"
   ]
  },
  {
   "cell_type": "markdown",
   "id": "50b1b8b5",
   "metadata": {},
   "source": [
    "#### 3- Sobel edge detection\n",
    "Detect edges both vertically and horizontally then <br/>\n",
    "then we get the result value of from both victors and <br/> pass it to binary_array ()"
   ]
  },
  {
   "cell_type": "code",
   "execution_count": null,
   "id": "6589f581",
   "metadata": {},
   "outputs": [],
   "source": [
    "# \n",
    "# Return Binary (black and white) 2D mask image\n",
    "def mag_thresh(image, sobel_kernel=3, thresh=(0, 255)):\n",
    "  \n",
    "  # Get the magnitude of the edges that are vertically aligned on the image\n",
    "  sobelx = cv2.Sobel(img_channel, cv2.CV_64F, 1, 0, sobel_kernel)\n",
    "  sobelx = np.absolute(sobelx)\n",
    "         \n",
    "  # Get the magnitude of the edges that are horizontally aligned on the image\n",
    "  sobely = cv2.Sobel(img_channel, cv2.CV_64F, 0, 1, sobel_kernel)\n",
    "  sobely = np.absolute(sobely)\n",
    " \n",
    "  # Find areas of the image that have the strongest pixel intensity changes\n",
    "  # in both the x and y directions.\n",
    "  mag = np.sqrt(sobelx ** 2 + sobely ** 2)\n",
    " \n",
    "  # Return a 2D array that contains 0s and 1s   \n",
    "  return binary_array(mag, thresh)"
   ]
  },
  {
   "cell_type": "markdown",
   "id": "f187be7f",
   "metadata": {},
   "source": [
    "#### 4- Apply a threshold to the input channel"
   ]
  },
  {
   "cell_type": "code",
   "execution_count": null,
   "id": "05530d1c",
   "metadata": {},
   "outputs": [],
   "source": [
    "def threshold(channel, thresh=(128,255), thresh_type=cv2.THRESH_BINARY):\n",
    "  # If pixel intensity is greater than thresh[0], make that value\n",
    "  # white (255), else set it to black (0)\n",
    "  return cv2.threshold(channel, thresh[0], thresh[1], thresh_type)"
   ]
  }
 ],
 "metadata": {
  "kernelspec": {
   "display_name": "Python 3 (ipykernel)",
   "language": "python",
   "name": "python3"
  },
  "language_info": {
   "codemirror_mode": {
    "name": "ipython",
    "version": 3
   },
   "file_extension": ".py",
   "mimetype": "text/x-python",
   "name": "python",
   "nbconvert_exporter": "python",
   "pygments_lexer": "ipython3",
   "version": "3.9.7"
  }
 },
 "nbformat": 4,
 "nbformat_minor": 5
}
